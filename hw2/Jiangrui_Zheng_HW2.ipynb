{
 "cells": [
  {
   "cell_type": "code",
   "execution_count": 19,
   "metadata": {},
   "outputs": [],
   "source": [
    "from sklearn import datasets\n",
    "import numpy as np\n",
    "import matplotlib.pyplot as plt\n",
    "import pandas as pd\n",
    "from sklearn.model_selection import train_test_split\n",
    "from sklearn.model_selection import KFold\n",
    "from sklearn.metrics import confusion_matrix\n",
    "import warnings\n",
    "\n",
    "warnings.filterwarnings('ignore')"
   ]
  },
  {
   "cell_type": "markdown",
   "metadata": {},
   "source": [
    "# Question 1:"
   ]
  },
  {
   "cell_type": "code",
   "execution_count": 20,
   "metadata": {},
   "outputs": [],
   "source": [
    "# load iris dataset\n",
    "iris=datasets.load_iris()\n",
    "\n",
    "X = iris.data\n",
    "y = iris.target\n",
    "target_names = iris.target_names"
   ]
  },
  {
   "cell_type": "markdown",
   "metadata": {},
   "source": [
    "LDA implementation using scikit-learn"
   ]
  },
  {
   "cell_type": "code",
   "execution_count": 21,
   "metadata": {},
   "outputs": [
    {
     "data": {
      "image/png": "[encoded data removed]",
      "text/plain": [
       "<Figure size 432x288 with 1 Axes>"
      ]
     },
     "metadata": {
      "needs_background": "light"
     },
     "output_type": "display_data"
    }
   ],
   "source": [
    "from sklearn.discriminant_analysis import LinearDiscriminantAnalysis\n",
    "\n",
    "lda = LinearDiscriminantAnalysis(n_components=2)\n",
    "X_r = lda.fit(X,y).transform(X)         # fitting the model\n",
    "\n",
    "# Visualize the results\n",
    "plt.figure()\n",
    "for c,i,target_name in zip(\"rgb\",[0,1,2],target_names):\n",
    "    plt.scatter(X_r[y==i,0],X_r[y==i,1],c=c,label=target_name)\n",
    "plt.legend()\n",
    "plt.title('LDA of IRIS dataset')\n",
    "plt.show()\n"
   ]
  },
  {
   "cell_type": "markdown",
   "metadata": {},
   "source": [
    "# Question 2:"
   ]
  },
  {
   "cell_type": "markdown",
   "metadata": {},
   "source": [
    "(1) In logistic regression method, please derive the derivative of the negative logarithm of the likelihood function with respect to parameter 𝑤. You need to show the detailed steps to obtain the following results."
   ]
  },
  {
   "cell_type": "markdown",
   "metadata": {},
   "source": [
    "#### <center> $\\nabla_w\\epsilon(w) = \\sum^{N}_{n = 1}(f(x_n) - y_n)x_n$ <center>"
   ]
  },
  {
   "cell_type": "markdown",
   "metadata": {},
   "source": [
    "Solution:\n",
    "\n",
    "We can tranfer negative logarithm of the likelihood at first:\n",
    "\n",
    "$\\epsilon(w) = -\\sum^{N}_{n = 1}[y_n(\\ln f_x(x_n)) + (1-y_n)\\ln(1 - f(x_n))]$\n",
    "\n",
    "$= -\\sum^{N}_{n = 1}[-y_n(\\ln(1+e^{-(w^T + \\omega_0)})) + (1 - y_n)\\times-(w^Tx_n + \\omega_0)]$\n",
    "\n",
    "$= -\\sum^{N}_{n = 1}[y_n(w^Tx_n + \\omega_0) - (w^Tx_n + \\omega_0) -\\ln(1+e^{-(w^Tx_n + \\omega_0)})]$\n",
    "\n",
    "$= -\\sum^{N}_{n = 1}[y_n(w^Tx_n + \\omega_0) - \\ln(e^{w^Tx_n + \\omega_0} + \\ln(1+e^{-(w^Tx_n + \\omega_0)}))]$\n",
    "\n",
    "$= -\\sum^{N}_{n = 1}[y_n(w^Tx_n + \\omega_0) - \\ln(e^{(w^Tx_n + \\omega_0)}+ 1)]$"
   ]
  },
  {
   "cell_type": "markdown",
   "metadata": {},
   "source": [
    "Next we can take the derivative of $\\epsilon$ with respect to parameter $w$"
   ]
  },
  {
   "cell_type": "markdown",
   "metadata": {},
   "source": [
    "$\\nabla_w\\epsilon(w) = (\\frac{\\partial}{\\partial w}\\sum^{N}_{n = 1}[\\ln(e^{(w^Tx_n + \\omega_0)}+ 1) - y_n(w^Tx_n + \\omega_0)])$\n",
    "\n",
    "$= \\sum^{N}_{n = 1}[\\frac{\\partial}{\\partial w}\\ln(e^{(w^Tx_n + \\omega_0)}+ 1) - \\frac{\\partial}{\\partial w}(w^Tx_ny_n + \\omega_0y_0)$\n",
    "\n",
    "$= \\sum^{N}_{n = 1}(\\frac{e^{w^Tx_n+ \\omega_0}x_n}{1 + e^{w^Tx_n + \\omega_0}} - x_ny_n)$\n",
    "\n",
    "$= \\sum^{N}_{n = 1}(\\frac{1}{1 + e^{(-w^T+ \\omega_0)}} - y_n)x_n$\n",
    "\n",
    "$= \\sum^{N}_{n = 1}(f(x_n)- y_n)x_n$"
   ]
  },
  {
   "cell_type": "markdown",
   "metadata": {},
   "source": [
    "(2) Please download the breast cancer data set from UCI Machine Learning repository. Implement your \n",
    "Logistic regression classifier with ML estimator using Stochastic gradient descent and Mini-Batch \n",
    "gradient descent algorithms. Do not use any package/tool. Use cross-validation for evaluation and \n",
    "report the recall, precision, and accuracy on malignant class prediction (class label malignant is \n",
    "positive). Write down each step of your solution."
   ]
  },
  {
   "cell_type": "code",
   "execution_count": 22,
   "metadata": {},
   "outputs": [],
   "source": [
    "# load data\n",
    "bc = datasets.load_breast_cancer()\n",
    "X,y = bc.data, bc.target"
   ]
  },
  {
   "cell_type": "code",
   "execution_count": 23,
   "metadata": {},
   "outputs": [
    {
     "data": {
      "text/plain": [
       "array([2.811e+01, 3.928e+01, 1.885e+02, 2.501e+03, 1.634e-01, 3.454e-01,\n",
       "       4.268e-01, 2.012e-01, 3.040e-01, 9.744e-02, 2.873e+00, 4.885e+00,\n",
       "       2.198e+01, 5.422e+02, 3.113e-02, 1.354e-01, 3.960e-01, 5.279e-02,\n",
       "       7.895e-02, 2.984e-02, 3.604e+01, 4.954e+01, 2.512e+02, 4.254e+03,\n",
       "       2.226e-01, 1.058e+00, 1.252e+00, 2.910e-01, 6.638e-01, 2.075e-01])"
      ]
     },
     "execution_count": 23,
     "metadata": {},
     "output_type": "execute_result"
    }
   ],
   "source": [
    "X_max = np.max(X, axis = 0)\n",
    "X_max"
   ]
  },
  {
   "cell_type": "code",
   "execution_count": 24,
   "metadata": {},
   "outputs": [
    {
     "data": {
      "text/plain": [
       "array([[0.63998577, 0.26425662, 0.65145889, ..., 0.91202749, 0.69313046,\n",
       "        0.57301205],\n",
       "       [0.73176805, 0.45239308, 0.70503979, ..., 0.63917526, 0.41428141,\n",
       "        0.42901205],\n",
       "       [0.70046247, 0.54098778, 0.68965517, ..., 0.83505155, 0.54429045,\n",
       "        0.42207229],\n",
       "       ...,\n",
       "       [0.59053718, 0.71486762, 0.57453581, ..., 0.48728522, 0.33413679,\n",
       "        0.37686747],\n",
       "       [0.73283529, 0.74669043, 0.74323607, ..., 0.91065292, 0.6156975 ,\n",
       "        0.59759036],\n",
       "       [0.27605834, 0.62474542, 0.25421751, ..., 0.        , 0.43250979,\n",
       "        0.33922892]])"
      ]
     },
     "execution_count": 24,
     "metadata": {},
     "output_type": "execute_result"
    }
   ],
   "source": [
    "X = X / X_max\n",
    "X"
   ]
  },
  {
   "cell_type": "code",
   "execution_count": 25,
   "metadata": {},
   "outputs": [
    {
     "name": "stdout",
     "output_type": "stream",
     "text": [
      "(569, 30)\n",
      "(569,)\n"
     ]
    }
   ],
   "source": [
    "print(X.shape)\n",
    "print(y.shape)"
   ]
  },
  {
   "cell_type": "code",
   "execution_count": 26,
   "metadata": {},
   "outputs": [],
   "source": [
    "#Implement Logistic regression classifier with ML estimator \n",
    "#using Stochastic gradient descent \n",
    "#and Mini-Batch gradient descent algorithms\n",
    "class LRmodel:\n",
    "    \n",
    "    def __inti__(self, lr = 0.01, n_iters = 1000):\n",
    "        self.lr = lr\n",
    "        self.n_iters = n_iters\n",
    "        self.weights = None\n",
    "        self.omega = None\n",
    "        self.size = 0\n",
    "        \n",
    "    def sigmoid(self, x):\n",
    "        return 1.0/(1 + np.exp(-x))\n",
    "    \n",
    "    def mbgd(self, X, y, lr = 0.0001, n_iter = 1000, seed = 42, size = 50):\n",
    "        n_samples, n_features = X.shape      \n",
    "        self.weights = np.random.rand(n_features)\n",
    "        self.omega = np.random.rand(1)\n",
    "        \n",
    "        mini_batches = []\n",
    "        n_batches = X.shape[0] // size + 1\n",
    "        for _ in range(n_iter):\n",
    "            np.random.seed(seed)\n",
    "            np.random.shuffle(X)\n",
    "            np.random.shuffle(y)\n",
    "            \n",
    "            for i in range(0, n_batches):\n",
    "                batch_x = X[i * size:(i+1)*size,:]\n",
    "                batch_y = y[i * size:(i+1)*size] \n",
    "\n",
    "                if (X.shape[0] - size * i) // size == 0:\n",
    "                    batch_x = X[size*i:,:]\n",
    "                    batch_y = y[size*i:]\n",
    "                \n",
    "                z = np.dot(batch_x, self.weights) + self.omega\n",
    "                fx = self.sigmoid(z)\n",
    "\n",
    "                dw = (1/ n_samples) * np.dot(batch_x.T, (fx - batch_y))\n",
    "                do = (1/ n_samples) * np.sum(fx - batch_y)\n",
    "\n",
    "                self.weights -= lr* dw\n",
    "                self.omega -= lr* do\n",
    "                \n",
    "    def sgd(self, X, y, lr = 0.0001, n_iter = 1000, seed = 42):\n",
    "        n_samples, n_features = X.shape\n",
    "        self.weights = np.random.rand(n_features)\n",
    "        self.omega = np.random.rand(1)\n",
    "        for _ in range(n_iter):\n",
    "            np.random.seed(seed)\n",
    "            np.random.shuffle(X)\n",
    "            np.random.shuffle(y)\n",
    "            for i in range(100):\n",
    "                random_index = np.random.randint(n_samples)\n",
    "                x_i = X[random_index:random_index+1]\n",
    "                y_i = y[random_index:random_index+1]\n",
    "                z = np.dot(x_i, self.weights) + self.omega\n",
    "#                 z = z / np.max(z)\n",
    "                fx = self.sigmoid(z)\n",
    "\n",
    "                dw = (1/ n_samples) * np.dot(x_i.T, (fx - y_i))\n",
    "                do = (1/ n_samples) * np.sum(fx - y_i)\n",
    "\n",
    "                self.weights -= lr* dw\n",
    "                self.omega -= lr* do\n",
    "                \n",
    "                \n",
    "    def predict(self, X_test, y_test):\n",
    "        z = np.dot(X_test, self.weights) + self.omega\n",
    "        y_pred = 1.0/(1 + np.exp(-z)) \n",
    "        y_pred_cls = [1 if i > 0.5 else 0 for i in y_pred]\n",
    "        \n",
    "        return y_pred_cls"
   ]
  },
  {
   "cell_type": "markdown",
   "metadata": {},
   "source": [
    "cross-validation for evaluation and report the recall, precision, and accuracy"
   ]
  },
  {
   "cell_type": "code",
   "execution_count": 28,
   "metadata": {},
   "outputs": [
    {
     "name": "stdout",
     "output_type": "stream",
     "text": [
      "Recall on malignant class prediction with Mini-Batch gradient descent:  0.8834511911048771\n",
      "Precision on malignant class prediction with Mini-Batch gradient descent:  0.6011404261536947\n",
      "Accuracy on malignant class prediction with Mini-Batch gradient descent:  0.5432957393483709\n"
     ]
    }
   ],
   "source": [
    "# Mini-Batch gradient descent \n",
    "\n",
    "kf = KFold(n_splits = 10)\n",
    "recall, precision, accuracy = [],[],[]\n",
    "for train_index, test_index in kf.split(X):\n",
    "    X_train, X_test = X[train_index,:], X[test_index,:]\n",
    "    y_train, y_test = y[train_index], y[test_index]\n",
    "    LR = LRmodel()\n",
    "    LR.mbgd(X_train,y_train, size = 50, lr = 0.01, n_iter = 1000, seed = 42)\n",
    "    y_pred = LR.predict(X_test,y_test)\n",
    "    tn, fp, fn, tp = confusion_matrix(y_test, y_pred).ravel()\n",
    "    recall.append(tp/(tp+fn))\n",
    "    precision.append(tp/(tp+fp))\n",
    "    accuracy.append((tp+tn)/(tp+fn+tn+fp))\n",
    "Recall_mbgd = sum(recall) / len(recall)\n",
    "Precision_mbgd = sum(precision) / len(precision)\n",
    "Accuracy_mbgd = sum(accuracy) / len(accuracy)\n",
    "print('Recall on malignant class prediction with Mini-Batch gradient descent: ', Recall_mbgd)\n",
    "print('Precision on malignant class prediction with Mini-Batch gradient descent: ', Precision_mbgd)\n",
    "print('Accuracy on malignant class prediction with Mini-Batch gradient descent: ', Accuracy_mbgd)"
   ]
  },
  {
   "cell_type": "code",
   "execution_count": 30,
   "metadata": {},
   "outputs": [
    {
     "name": "stdout",
     "output_type": "stream",
     "text": [
      "Recall on malignant class prediction with Stochastic gradient descent:  1.0\n",
      "Precision on malignant class prediction with Stochastic gradient descent gradient descent:  0.6276629072681704\n",
      "Accuracy on malignant class prediction with Stochastic gradient descent gradient descent:  0.6276629072681704\n"
     ]
    }
   ],
   "source": [
    "# Stochastic gradient descent gradient descent \n",
    "\n",
    "kf = KFold(n_splits = 10)\n",
    "recall, precision, accuracy = [],[],[]\n",
    "for train_index, test_index in kf.split(X):\n",
    "    X_train, X_test = X[train_index,:], X[test_index,:]\n",
    "    y_train, y_test = y[train_index], y[test_index]\n",
    "    LR = LRmodel()\n",
    "    LR.sgd(X_train,y_train, lr = 0.01, n_iter = 1000, seed = 42)\n",
    "    y_pred = LR.predict(X_test,y_test)\n",
    "    tn, fp, fn, tp = confusion_matrix(y_test, y_pred).ravel()\n",
    "    recall.append(tp/(tp+fn))\n",
    "    precision.append(tp/(tp+fp))\n",
    "    accuracy.append((tp+tn)/(tp+fn+tn+fp))\n",
    "Recall_sgd = sum(recall) / len(recall)\n",
    "Precision_sgd = sum(precision) / len(precision)\n",
    "Accuracy_sgd = sum(accuracy) / len(accuracy)\n",
    "print('Recall on malignant class prediction with Stochastic gradient descent: ', Recall_sgd)\n",
    "print('Precision on malignant class prediction with Stochastic gradient descent gradient descent: ', Precision_sgd)\n",
    "print('Accuracy on malignant class prediction with Stochastic gradient descent gradient descent: ', Accuracy_sgd)"
   ]
  },
  {
   "cell_type": "markdown",
   "metadata": {},
   "source": [
    "# Question 4:"
   ]
  },
  {
   "cell_type": "markdown",
   "metadata": {},
   "source": [
    "Given 10 points in Table 1, along with their classes and their Lagrangian multipliers (𝛼𝑖), answer the following questions:"
   ]
  },
  {
   "cell_type": "markdown",
   "metadata": {},
   "source": [
    "(1) What is the equation of the SVM hyperplane ℎ(𝑥)? Draw the hyperplane with the 10 points."
   ]
  },
  {
   "cell_type": "markdown",
   "metadata": {},
   "source": [
    "$y(x) = w^T x + w_0$\n",
    "\n",
    "$w^T = \\sum a_i y_i x_i^T = (4, 2.9)\\times0.414+(2.5,1)\\times 0.018+ (3.5, 4)\\times0.018+ (2, 2.1)\\times0.414 = (2.592, 2.16)$\n",
    "\n",
    "We get w = $(2.592, 2.16)$\n",
    "\n",
    "$1 = 4 \\times 2.592 + 2.9 \\times 2.16 +w_0$\n",
    "\n",
    "=> $w_0 = -15.632$\n",
    "\n",
    "$-1 = 2.5 \\times 2.592 + 1 \\times 2.16 +w_0$\n",
    "\n",
    "=> $w_0 = -9.64$\n",
    "\n",
    "$1 = 3.5 \\times 2.592 + 4 \\times 2.16 +w_0$\n",
    "\n",
    "=> $w_0 = -16.712$\n",
    "\n",
    "$-1 = 2 \\times 2.592 + 2.1 \\times 2.16 +w_0$\n",
    "\n",
    "=> $w_0 = -10.72$\n",
    "\n",
    "Take the average:\n",
    "\n",
    "so we get $w_O = -13.176$\n",
    "\n",
    "$y(x_1,x_2) = 2.592x_1 + 2.16x_2 - 13.176 = 0$\n",
    "\n",
    "Then $x_2 = 6.1 - 1.2 x_1 $"
   ]
  },
  {
   "cell_type": "code",
   "execution_count": 50,
   "metadata": {},
   "outputs": [
    {
     "data": {
      "image/png": "[encoded data removed]",
      "text/plain": [
       "<Figure size 432x288 with 1 Axes>"
      ]
     },
     "metadata": {
      "needs_background": "light"
     },
     "output_type": "display_data"
    }
   ],
   "source": [
    "x1 = [4, 4, 1, 2.5, 4.9, 1.9, 3.5, 0.5, 2, 4.5]\n",
    "x2 = [2.9, 4, 2.5, 1, 4.5, 1.9, 4, 1.5, 2.1, 2.5]\n",
    "y = [1, 1, -1, -1, 1, -1, 1, -1, -1, 1]\n",
    "a = [0.414, 0, 0, 0.018, 0, 0, 0.018, 0, 0.414, 0]\n",
    "\n",
    "x_svm = np.linspace(0, 5, 10)\n",
    "y_svm = -1.2*x_svm + 6.1\n",
    "\n",
    "plt.scatter(x1, x2)\n",
    "plt.plot(x_svm, y_svm)\n",
    "plt.show()"
   ]
  },
  {
   "cell_type": "markdown",
   "metadata": {},
   "source": [
    "(2) What is the distance of 𝑥6 from the hyperplane? Is it within the margin of the classifier?"
   ]
  },
  {
   "cell_type": "markdown",
   "metadata": {},
   "source": [
    "$r = \\frac{|w^Tx+b|}{||w||}$"
   ]
  },
  {
   "cell_type": "code",
   "execution_count": 52,
   "metadata": {},
   "outputs": [
    {
     "name": "stdout",
     "output_type": "stream",
     "text": [
      "1.2291540473558014 is the distance of x6 from the hyperplane\n"
     ]
    }
   ],
   "source": [
    "dis = abs(2.592*1.9+2.16*1.9-13.176)/np.sqrt(2.592**2 + 2.16**2)\n",
    "print(dis,\"is the distance of x6 from the hyperplane\")"
   ]
  },
  {
   "cell_type": "code",
   "execution_count": 53,
   "metadata": {},
   "outputs": [
    {
     "data": {
      "text/plain": [
       "0.5927633330226666"
      ]
     },
     "execution_count": 53,
     "metadata": {},
     "output_type": "execute_result"
    }
   ],
   "source": [
    "margin = 2 /np.sqrt(2.592**2 + 2.16**2)\n",
    "margin"
   ]
  },
  {
   "cell_type": "markdown",
   "metadata": {},
   "source": [
    "So it is not within the margin of the classifier."
   ]
  },
  {
   "cell_type": "markdown",
   "metadata": {},
   "source": [
    "(3) Classify the point 𝑧 = (3,3)^T using ℎ(𝑥) from above. "
   ]
  },
  {
   "cell_type": "code",
   "execution_count": 54,
   "metadata": {},
   "outputs": [
    {
     "data": {
      "image/png": "[encoded data removed]",
      "text/plain": [
       "<Figure size 432x288 with 1 Axes>"
      ]
     },
     "metadata": {
      "needs_background": "light"
     },
     "output_type": "display_data"
    }
   ],
   "source": [
    "plt.scatter(x1, x2)\n",
    "plt.scatter([3],[3], color=\"coral\")\n",
    "plt.plot(x_svm, y_svm)\n",
    "plt.show()"
   ]
  },
  {
   "cell_type": "markdown",
   "metadata": {},
   "source": [
    "From the graph we can see, point [3,3] is classified to catergory 1."
   ]
  },
  {
   "cell_type": "code",
   "execution_count": null,
   "metadata": {},
   "outputs": [],
   "source": []
  }
 ],
 "metadata": {
  "kernelspec": {
   "display_name": "Python 3",
   "language": "python",
   "name": "python3"
  },
  "language_info": {
   "codemirror_mode": {
    "name": "ipython",
    "version": 3
   },
   "file_extension": ".py",
   "mimetype": "text/x-python",
   "name": "python",
   "nbconvert_exporter": "python",
   "pygments_lexer": "ipython3",
   "version": "3.7.4"
  }
 },
 "nbformat": 4,
 "nbformat_minor": 2
}
