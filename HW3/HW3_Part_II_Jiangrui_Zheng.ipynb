{
 "cells": [
  {
   "cell_type": "markdown",
   "metadata": {},
   "source": [
    "### Problem 4. K-nearest Neighbor Classification"
   ]
  },
  {
   "cell_type": "markdown",
   "metadata": {},
   "source": [
    "### Part II. Consider the three-dimensional data set in train.csv"
   ]
  },
  {
   "cell_type": "code",
   "execution_count": 33,
   "metadata": {
    "ExecuteTime": {
     "end_time": "2022-03-30T19:35:39.045393Z",
     "start_time": "2022-03-30T19:35:38.663667Z"
    }
   },
   "outputs": [],
   "source": [
    "import numpy as np\n",
    "from collections import Counter\n",
    "import pandas as pd"
   ]
  },
  {
   "cell_type": "code",
   "execution_count": 34,
   "metadata": {
    "ExecuteTime": {
     "end_time": "2022-03-30T19:35:39.627374Z",
     "start_time": "2022-03-30T19:35:39.588439Z"
    },
    "scrolled": true
   },
   "outputs": [
    {
     "data": {
      "text/html": [
       "<div>\n",
       "<style scoped>\n",
       "    .dataframe tbody tr th:only-of-type {\n",
       "        vertical-align: middle;\n",
       "    }\n",
       "\n",
       "    .dataframe tbody tr th {\n",
       "        vertical-align: top;\n",
       "    }\n",
       "\n",
       "    .dataframe thead th {\n",
       "        text-align: right;\n",
       "    }\n",
       "</style>\n",
       "<table border=\"1\" class=\"dataframe\">\n",
       "  <thead>\n",
       "    <tr style=\"text-align: right;\">\n",
       "      <th></th>\n",
       "      <th>x</th>\n",
       "      <th>y</th>\n",
       "      <th>z</th>\n",
       "      <th>class</th>\n",
       "    </tr>\n",
       "  </thead>\n",
       "  <tbody>\n",
       "    <tr>\n",
       "      <td>0</td>\n",
       "      <td>8.599291</td>\n",
       "      <td>9.729418</td>\n",
       "      <td>6.432371</td>\n",
       "      <td>1</td>\n",
       "    </tr>\n",
       "    <tr>\n",
       "      <td>1</td>\n",
       "      <td>6.592955</td>\n",
       "      <td>0.082556</td>\n",
       "      <td>1.969544</td>\n",
       "      <td>1</td>\n",
       "    </tr>\n",
       "    <tr>\n",
       "      <td>2</td>\n",
       "      <td>5.596471</td>\n",
       "      <td>9.815682</td>\n",
       "      <td>0.027295</td>\n",
       "      <td>1</td>\n",
       "    </tr>\n",
       "    <tr>\n",
       "      <td>3</td>\n",
       "      <td>2.743639</td>\n",
       "      <td>8.783177</td>\n",
       "      <td>4.041946</td>\n",
       "      <td>0</td>\n",
       "    </tr>\n",
       "    <tr>\n",
       "      <td>4</td>\n",
       "      <td>4.458362</td>\n",
       "      <td>5.750222</td>\n",
       "      <td>0.099070</td>\n",
       "      <td>0</td>\n",
       "    </tr>\n",
       "  </tbody>\n",
       "</table>\n",
       "</div>"
      ],
      "text/plain": [
       "          x         y         z  class\n",
       "0  8.599291  9.729418  6.432371      1\n",
       "1  6.592955  0.082556  1.969544      1\n",
       "2  5.596471  9.815682  0.027295      1\n",
       "3  2.743639  8.783177  4.041946      0\n",
       "4  4.458362  5.750222  0.099070      0"
      ]
     },
     "execution_count": 34,
     "metadata": {},
     "output_type": "execute_result"
    }
   ],
   "source": [
    "train_data = pd.read_csv('./train.csv')\n",
    "train_data.head()"
   ]
  },
  {
   "cell_type": "code",
   "execution_count": 35,
   "metadata": {
    "ExecuteTime": {
     "end_time": "2022-03-30T19:35:40.057547Z",
     "start_time": "2022-03-30T19:35:40.053476Z"
    }
   },
   "outputs": [],
   "source": [
    "X_train = np.array(train_data.loc[:,:'z'])\n",
    "y_train = np.array(train_data['class'])"
   ]
  },
  {
   "cell_type": "code",
   "execution_count": 36,
   "metadata": {
    "ExecuteTime": {
     "end_time": "2022-03-30T19:35:40.520189Z",
     "start_time": "2022-03-30T19:35:40.490249Z"
    },
    "scrolled": false
   },
   "outputs": [
    {
     "data": {
      "text/html": [
       "<div>\n",
       "<style scoped>\n",
       "    .dataframe tbody tr th:only-of-type {\n",
       "        vertical-align: middle;\n",
       "    }\n",
       "\n",
       "    .dataframe tbody tr th {\n",
       "        vertical-align: top;\n",
       "    }\n",
       "\n",
       "    .dataframe thead th {\n",
       "        text-align: right;\n",
       "    }\n",
       "</style>\n",
       "<table border=\"1\" class=\"dataframe\">\n",
       "  <thead>\n",
       "    <tr style=\"text-align: right;\">\n",
       "      <th></th>\n",
       "      <th>ID</th>\n",
       "      <th>x</th>\n",
       "      <th>y</th>\n",
       "      <th>z</th>\n",
       "      <th>actual-class</th>\n",
       "    </tr>\n",
       "  </thead>\n",
       "  <tbody>\n",
       "    <tr>\n",
       "      <td>0</td>\n",
       "      <td>1</td>\n",
       "      <td>8.074807</td>\n",
       "      <td>5.988044</td>\n",
       "      <td>3.844979</td>\n",
       "      <td>1</td>\n",
       "    </tr>\n",
       "    <tr>\n",
       "      <td>1</td>\n",
       "      <td>2</td>\n",
       "      <td>4.952249</td>\n",
       "      <td>5.823205</td>\n",
       "      <td>1.612045</td>\n",
       "      <td>0</td>\n",
       "    </tr>\n",
       "    <tr>\n",
       "      <td>2</td>\n",
       "      <td>3</td>\n",
       "      <td>4.773178</td>\n",
       "      <td>0.078757</td>\n",
       "      <td>4.209442</td>\n",
       "      <td>0</td>\n",
       "    </tr>\n",
       "    <tr>\n",
       "      <td>3</td>\n",
       "      <td>4</td>\n",
       "      <td>9.845919</td>\n",
       "      <td>2.055448</td>\n",
       "      <td>3.525702</td>\n",
       "      <td>1</td>\n",
       "    </tr>\n",
       "    <tr>\n",
       "      <td>4</td>\n",
       "      <td>5</td>\n",
       "      <td>1.612492</td>\n",
       "      <td>1.320515</td>\n",
       "      <td>8.200455</td>\n",
       "      <td>0</td>\n",
       "    </tr>\n",
       "  </tbody>\n",
       "</table>\n",
       "</div>"
      ],
      "text/plain": [
       "   ID         x         y         z  actual-class\n",
       "0   1  8.074807  5.988044  3.844979             1\n",
       "1   2  4.952249  5.823205  1.612045             0\n",
       "2   3  4.773178  0.078757  4.209442             0\n",
       "3   4  9.845919  2.055448  3.525702             1\n",
       "4   5  1.612492  1.320515  8.200455             0"
      ]
     },
     "execution_count": 36,
     "metadata": {},
     "output_type": "execute_result"
    }
   ],
   "source": [
    "test_data = pd.read_csv('./test.csv')\n",
    "test_data.head()"
   ]
  },
  {
   "cell_type": "code",
   "execution_count": 37,
   "metadata": {
    "ExecuteTime": {
     "end_time": "2022-03-30T19:35:40.928215Z",
     "start_time": "2022-03-30T19:35:40.908241Z"
    }
   },
   "outputs": [],
   "source": [
    "X_test = np.array(test_data.loc[:,'x':'z'])\n",
    "y_test = np.array(test_data['actual-class'])"
   ]
  },
  {
   "cell_type": "code",
   "execution_count": 38,
   "metadata": {
    "ExecuteTime": {
     "end_time": "2022-03-30T19:35:41.395060Z",
     "start_time": "2022-03-30T19:35:41.383601Z"
    }
   },
   "outputs": [],
   "source": [
    "def euclidean_dis(x1, x2):\n",
    "    return np.sqrt(np.sum((x1 - x2) ** 2))"
   ]
  },
  {
   "cell_type": "code",
   "execution_count": 39,
   "metadata": {
    "ExecuteTime": {
     "end_time": "2022-03-30T19:35:41.982317Z",
     "start_time": "2022-03-30T19:35:41.962814Z"
    }
   },
   "outputs": [],
   "source": [
    "class KNN:\n",
    "    def __init__(self, k = 3):\n",
    "        self.k = k\n",
    "        \n",
    "    def fit(self, X, y):\n",
    "        self.X_train = X\n",
    "        self.y_train = y\n",
    "    \n",
    "    def predicted(self, X):\n",
    "        predicted = [self.predict(x) for x in X]\n",
    "        return np.array(predicted)\n",
    "    \n",
    "    def weighted_predicted(self, X):\n",
    "        predicted = [self.predict(x) for x in X]\n",
    "        return np.array(predicted)\n",
    "    \n",
    "    def predict(self, x):\n",
    "        distance = [euclidean_dis(x, x_train) for x_train in self.X_train]\n",
    "        k_indices = np.argsort(distance)[:self.k]\n",
    "        k_nearest_labels = [self.y_train[i] for i in k_indices]\n",
    "        result = Counter(k_nearest_labels).most_common(1)\n",
    "        return result[0][0]\n",
    "    \n",
    "    def weighted_predict(self, X):\n",
    "        distance = 1 / ([euclidean_dis(x, x_train) for x_train in self.X_train])\n",
    "        k_indices = np.argsort(distance)[:self.k]\n",
    "        k_nearest_labels = [self.y_train[i] for i in k_indices]\n",
    "        result = Counter(k_nearest_labels).most_common(1)\n",
    "        return result[0][0]"
   ]
  },
  {
   "cell_type": "markdown",
   "metadata": {
    "ExecuteTime": {
     "end_time": "2022-03-30T18:41:01.637837Z",
     "start_time": "2022-03-30T18:41:01.626622Z"
    }
   },
   "source": [
    "#### (1) Classify the data points in test.csv according to their 3-nearest neighbors. Also give the probability estimates for the final decision."
   ]
  },
  {
   "cell_type": "code",
   "execution_count": 40,
   "metadata": {
    "ExecuteTime": {
     "end_time": "2022-03-30T19:35:43.143499Z",
     "start_time": "2022-03-30T19:35:42.907168Z"
    }
   },
   "outputs": [
    {
     "data": {
      "text/plain": [
       "array([1, 0, 0, 1, 0, 1, 0, 0, 0, 0, 1, 0, 0, 0, 1, 1, 1, 0, 0, 0],\n",
       "      dtype=int64)"
      ]
     },
     "execution_count": 40,
     "metadata": {},
     "output_type": "execute_result"
    }
   ],
   "source": [
    "clf = KNN()\n",
    "clf.fit(X_train, y_train)\n",
    "prediction = clf.predicted(X_test)\n",
    "prediction"
   ]
  },
  {
   "cell_type": "markdown",
   "metadata": {},
   "source": [
    "#### (2) Do the same for the Euclidean distance weighted 3-nearest neighbors (1/d^2). Does the predicted label for each point remain the same as that in question (1)?"
   ]
  },
  {
   "cell_type": "code",
   "execution_count": 41,
   "metadata": {
    "ExecuteTime": {
     "end_time": "2022-03-30T19:35:44.329001Z",
     "start_time": "2022-03-30T19:35:44.098367Z"
    }
   },
   "outputs": [
    {
     "data": {
      "text/plain": [
       "array([1, 0, 0, 1, 0, 1, 0, 0, 0, 0, 1, 0, 0, 0, 1, 1, 1, 0, 0, 0],\n",
       "      dtype=int64)"
      ]
     },
     "execution_count": 41,
     "metadata": {},
     "output_type": "execute_result"
    }
   ],
   "source": [
    "clf = KNN()\n",
    "clf.fit(X_train, y_train)\n",
    "weighted_prediction = clf.weighted_predicted(X_test)\n",
    "weighted_prediction"
   ]
  },
  {
   "cell_type": "markdown",
   "metadata": {},
   "source": [
    "According to the two preditions, we can conclude that the predicted label for each point remain the same as that in question (1)"
   ]
  },
  {
   "cell_type": "markdown",
   "metadata": {},
   "source": [
    "#### (3) In the test.csv, the true class labels are also provided. Construct the confusion matrix and calculate Accuracy, Precision, F-measure for questions (1) and (2). From your results, which method gives better performance?"
   ]
  },
  {
   "cell_type": "code",
   "execution_count": 42,
   "metadata": {
    "ExecuteTime": {
     "end_time": "2022-03-30T19:35:48.045515Z",
     "start_time": "2022-03-30T19:35:47.162202Z"
    }
   },
   "outputs": [],
   "source": [
    "from sklearn.metrics import confusion_matrix"
   ]
  },
  {
   "cell_type": "markdown",
   "metadata": {},
   "source": [
    "#### Construct the confusion matrix and calculate Accuracy, Precision, F-measure for questions (1)"
   ]
  },
  {
   "cell_type": "code",
   "execution_count": 43,
   "metadata": {},
   "outputs": [
    {
     "data": {
      "text/plain": [
       "array([[13,  1],\n",
       "       [ 0,  6]], dtype=int64)"
      ]
     },
     "execution_count": 43,
     "metadata": {},
     "output_type": "execute_result"
    }
   ],
   "source": [
    "confusion_matrix(y_test, prediction)"
   ]
  },
  {
   "cell_type": "code",
   "execution_count": 44,
   "metadata": {
    "ExecuteTime": {
     "end_time": "2022-03-30T19:35:48.077521Z",
     "start_time": "2022-03-30T19:35:48.049483Z"
    }
   },
   "outputs": [
    {
     "name": "stdout",
     "output_type": "stream",
     "text": [
      "Accuracy is 0.95 \n",
      "Precision is 0.8571428571428571 \n",
      "F-measure is 0.923076923076923 \n"
     ]
    }
   ],
   "source": [
    "tn, fp, fn, tp = confusion_matrix(y_test, prediction).ravel()\n",
    "recall = (tp/(tp+fn))\n",
    "precision = (tp/(tp+fp))\n",
    "accuracy = ((tp+tn)/(tp+fn+tn+fp))\n",
    "f_score = 2 * precision * recall / (precision + recall)\n",
    "print(\"Accuracy is {} \\nPrecision is {} \\nF-measure is {} \".format(accuracy, precision, f_score))"
   ]
  },
  {
   "cell_type": "code",
   "execution_count": 45,
   "metadata": {},
   "outputs": [
    {
     "name": "stdout",
     "output_type": "stream",
     "text": [
      "              precision    recall  f1-score   support\n",
      "\n",
      "           0       1.00      0.93      0.96        14\n",
      "           1       0.86      1.00      0.92         6\n",
      "\n",
      "    accuracy                           0.95        20\n",
      "   macro avg       0.93      0.96      0.94        20\n",
      "weighted avg       0.96      0.95      0.95        20\n",
      "\n"
     ]
    }
   ],
   "source": [
    "from sklearn.metrics import classification_report\n",
    "print(classification_report(y_test,prediction))"
   ]
  },
  {
   "cell_type": "markdown",
   "metadata": {},
   "source": [
    "#### Construct the confusion matrix and calculate Accuracy, Precision, F-measure for questions (2)"
   ]
  },
  {
   "cell_type": "code",
   "execution_count": 46,
   "metadata": {},
   "outputs": [
    {
     "data": {
      "text/plain": [
       "array([[13,  1],\n",
       "       [ 0,  6]], dtype=int64)"
      ]
     },
     "execution_count": 46,
     "metadata": {},
     "output_type": "execute_result"
    }
   ],
   "source": [
    "confusion_matrix(y_test, weighted_prediction)"
   ]
  },
  {
   "cell_type": "code",
   "execution_count": 47,
   "metadata": {
    "ExecuteTime": {
     "end_time": "2022-03-30T19:35:48.960825Z",
     "start_time": "2022-03-30T19:35:48.945586Z"
    }
   },
   "outputs": [
    {
     "name": "stdout",
     "output_type": "stream",
     "text": [
      "Accuracy is 0.95 \n",
      "Precision is 0.8571428571428571 \n",
      "F-measure is 0.923076923076923 \n"
     ]
    }
   ],
   "source": [
    "tn, fp, fn, tp = confusion_matrix(y_test, weighted_prediction).ravel()\n",
    "recall = (tp/(tp+fn))\n",
    "precision = (tp/(tp+fp))\n",
    "accuracy = ((tp+tn)/(tp+fn+tn+fp))\n",
    "f_score = 2 * precision * recall / (precision + recall)\n",
    "print(\"Accuracy is {} \\nPrecision is {} \\nF-measure is {} \".format(accuracy, precision, f_score))"
   ]
  },
  {
   "cell_type": "code",
   "execution_count": 48,
   "metadata": {},
   "outputs": [
    {
     "name": "stdout",
     "output_type": "stream",
     "text": [
      "              precision    recall  f1-score   support\n",
      "\n",
      "           0       1.00      0.93      0.96        14\n",
      "           1       0.86      1.00      0.92         6\n",
      "\n",
      "    accuracy                           0.95        20\n",
      "   macro avg       0.93      0.96      0.94        20\n",
      "weighted avg       0.96      0.95      0.95        20\n",
      "\n"
     ]
    }
   ],
   "source": [
    "from sklearn.metrics import classification_report\n",
    "print(classification_report(y_test,weighted_prediction))"
   ]
  },
  {
   "cell_type": "code",
   "execution_count": null,
   "metadata": {},
   "outputs": [],
   "source": []
  }
 ],
 "metadata": {
  "kernelspec": {
   "display_name": "Python 3",
   "language": "python",
   "name": "python3"
  },
  "language_info": {
   "codemirror_mode": {
    "name": "ipython",
    "version": 3
   },
   "file_extension": ".py",
   "mimetype": "text/x-python",
   "name": "python",
   "nbconvert_exporter": "python",
   "pygments_lexer": "ipython3",
   "version": "3.7.4"
  }
 },
 "nbformat": 4,
 "nbformat_minor": 5
}
